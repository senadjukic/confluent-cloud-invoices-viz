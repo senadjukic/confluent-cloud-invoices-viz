{
 "cells": [
  {
   "cell_type": "code",
   "execution_count": null,
   "id": "54c00042-0931-40b5-8a87-c01a965b19ad",
   "metadata": {},
   "outputs": [],
   "source": [
    "# Instructions\n",
    "# Do not forget to download the bills as CSV files in the download folder \"invoices\"\n",
    "# https://github.com/senadjukic/confluent-cloud-invoices-viz"
   ]
  },
  {
   "cell_type": "code",
   "execution_count": null,
   "id": "ad57920e-4810-4cd4-b420-31448a2d9270",
   "metadata": {
    "tags": []
   },
   "outputs": [],
   "source": [
    "# Check if required packages are installed\n",
    "# !pip3 install pandas matplotlib numpy\n",
    "# !pip3 install -r requirements.txt\n",
    "\n",
    "# In case you want to save your package list\n",
    "# !pip3 list --format=freeze > requirements.txt"
   ]
  },
  {
   "cell_type": "code",
   "execution_count": null,
   "id": "5cf0e48c-32e2-4c3d-84e4-6a628d6d556c",
   "metadata": {
    "tags": []
   },
   "outputs": [],
   "source": [
    "import pandas as pd\n",
    "from matplotlib import pyplot as plt\n",
    "from IPython.display import display\n",
    "import numpy as np\n",
    "import os\n",
    "import glob\n",
    "from datetime import date\n",
    "\n",
    "# Use glob to get all paths of the csv files from the download folder\n",
    "path = os.getcwd()\n",
    "download_folder = \"invoices\"\n",
    "csv_files = glob.glob(os.path.join(path, download_folder, \"*.csv\"))\n",
    "\n",
    "# Check if no CSV's were found\n",
    "if not csv_files:\n",
    "   raise UserWarning('No downloaded CSV found in the folder:',download_folder)\n",
    "else:\n",
    "   print('Downloaded CSV found in folder:',download_folder)\n",
    "\n",
    "# Placeholder for all months\n",
    "li = []\n",
    "    \n",
    "# Loop over the list of CSV files\n",
    "for f in csv_files:\n",
    "      \n",
    "    # Read the csv file\n",
    "    df = pd.read_csv(f) \n",
    "      \n",
    "    # Print the location and filename\n",
    "    print('Processed:', f)\n",
    "    month_year = '_'.join(f.split('_')[-2:]).removesuffix('.csv')\n",
    "      \n",
    "    # Group spend by product per monthly bill\n",
    "    spend_by_month = df.groupby(\"Product\")\n",
    "    \n",
    "    # Round monthly product spend to 2 decimals\n",
    "    spend_by_month = spend_by_month[\"Total\"].sum(numeric_only=True).round(2)\n",
    "    \n",
    "    # Rename the column from CSV filename to month_year\n",
    "    spend_by_month = spend_by_month.rename(month_year)\n",
    "    li.append(spend_by_month)\n",
    "\n",
    "# All months alphabetically sorted\n",
    "spend_by_month_concat = pd.concat(li, axis=1)"
   ]
  },
  {
   "cell_type": "code",
   "execution_count": null,
   "id": "e2f0f0b2-e4bf-40cb-8d57-6bd8ab21598e",
   "metadata": {
    "tags": []
   },
   "outputs": [],
   "source": [
    "# Sort all columns by years and months\n",
    "months = ['January', 'February', 'March', 'April', 'May', 'June', 'July',\n",
    "          'August', 'September', 'October', 'November', 'December']\n",
    "\n",
    "# Add x Axis values in the right timewise order to the list, such as December_2022, January_2023, February_2023, and similar\n",
    "years = ['2021','2022','2023']\n",
    "\n",
    "months_with_years = []\n",
    "\n",
    "for year in years:\n",
    "    for month in months:\n",
    "        months_with_years.append(month + \"_\" + year)\n",
    "\n",
    "# Remove all months that have only NaN values\n",
    "spend_by_month_concat = spend_by_month_concat.reindex(columns=months_with_years).dropna(axis=1, how='all')\n",
    "\n",
    "# Add Monthly Totals\n",
    "spend_by_month_concat.loc['Monthly Total'] = spend_by_month_concat.sum(numeric_only=True, axis=0)\n",
    "display(spend_by_month_concat)"
   ]
  },
  {
   "cell_type": "code",
   "execution_count": null,
   "id": "0e3ecd0c-11f8-4d7c-b295-35c20c65c2b5",
   "metadata": {
    "tags": []
   },
   "outputs": [],
   "source": [
    "# Billing per service: ['connect', 'kafka', 'ksql', 'event-log', 'stream-governance']\n",
    "billable_services = spend_by_month_concat.index.values\n",
    "\n",
    "# Plot the spends by service\n",
    "for service in billable_services: \n",
    "    fig, ax = plt.subplots()\n",
    "    x_axis = spend_by_month_concat.columns\n",
    "    y_axis = spend_by_month_concat.T[service]\n",
    "    ax.bar(x_axis, y_axis, label=x_axis)\n",
    "    ax.set_ylabel('$/month')\n",
    "    ax.set_title(service +' Costs')\n",
    "    plt.rcParams['figure.figsize'] = [25, 5]\n",
    "    plt.show()"
   ]
  },
  {
   "cell_type": "code",
   "execution_count": null,
   "id": "b520db4d-f75b-4adf-b0c7-61608f5e243b",
   "metadata": {
    "tags": []
   },
   "outputs": [],
   "source": [
    "# Add Service Totals\n",
    "spend_by_month_concat.loc[:,'Service_Total'] = spend_by_month_concat.sum(numeric_only=True, axis=1)\n",
    "\n",
    "# Get sum of Service_Total aka total spend on all services\n",
    "total_costs = spend_by_month_concat['Service_Total'][-1]\n",
    "\n",
    "service_total_percentage = []\n",
    "\n",
    "# Ratio service spend (Service_Total) against total spend on all services (total_costs)\n",
    "for index in range(len(billable_services)): \n",
    "    service_costs_percentage_from_total_costs = spend_by_month_concat['Service_Total'][index] / total_costs * 100\n",
    "    #print(billable_services[index], round(service_costs_percentage_from_total_costs,2),\" %\")\n",
    "    service_total_percentage.append(str(round(service_costs_percentage_from_total_costs,2)) + \" %\")\n",
    "\n",
    "spend_by_month_concat['Service_Total_Percentage'] = service_total_percentage\n",
    "\n",
    "# Display table\n",
    "display(spend_by_month_concat)"
   ]
  }
 ],
 "metadata": {
  "kernelspec": {
   "display_name": "Python 3 (ipykernel)",
   "language": "python",
   "name": "python3"
  },
  "language_info": {
   "codemirror_mode": {
    "name": "ipython",
    "version": 3
   },
   "file_extension": ".py",
   "mimetype": "text/x-python",
   "name": "python",
   "nbconvert_exporter": "python",
   "pygments_lexer": "ipython3",
   "version": "3.10.10"
  }
 },
 "nbformat": 4,
 "nbformat_minor": 5
}
